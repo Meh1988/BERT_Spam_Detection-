{
  "nbformat": 4,
  "nbformat_minor": 0,
  "metadata": {
    "colab": {
      "provenance": [],
      "gpuType": "T4"
    },
    "kernelspec": {
      "name": "python3",
      "display_name": "Python 3"
    },
    "language_info": {
      "name": "python"
    },
    "accelerator": "GPU"
  },
  "cells": [
    {
      "cell_type": "code",
      "execution_count": null,
      "metadata": {
        "id": "uVa7B1NEYe74"
      },
      "outputs": [],
      "source": []
    },
    {
      "cell_type": "code",
      "source": [
        "import pandas as pd\n",
        "from sklearn.model_selection import train_test_split\n",
        "from transformers import BertTokenizer, BertForSequenceClassification, Trainer, TrainingArguments\n",
        "import torch\n",
        "from sklearn.metrics import accuracy_score, classification_report\n",
        "\n",
        "# Load the dataset\n",
        "url = \"https://archive.ics.uci.edu/ml/machine-learning-databases/00228/smsspamcollection.zip\"\n",
        "dataset_path = \"smsspamcollection.zip\"\n",
        "\n",
        "# Download the dataset\n",
        "import requests\n",
        "import zipfile\n",
        "\n",
        "response = requests.get(url)\n",
        "with open(dataset_path, 'wb') as f:\n",
        "    f.write(response.content)\n",
        "\n",
        "with zipfile.ZipFile(dataset_path, 'r') as zip_ref:\n",
        "    zip_ref.extractall()\n",
        "\n",
        "# Load the data into a DataFrame\n",
        "data = pd.read_csv(\"SMSSpamCollection\", sep='\\t', header=None, names=['label', 'text'])\n",
        "\n",
        "# Encode labels\n",
        "data['label'] = data['label'].map({'ham': 0, 'spam': 1})\n",
        "\n",
        "# Split dataset into training and test sets\n",
        "texts = list(data['text'])\n",
        "labels = list(data['label'])\n",
        "X_train, X_test, y_train, y_test = train_test_split(texts, labels, test_size=0.2, random_state=42)\n",
        "\n",
        "# Load the tokenizer and model\n",
        "tokenizer = BertTokenizer.from_pretrained('bert-base-uncased')\n",
        "model = BertForSequenceClassification.from_pretrained('bert-base-uncased', num_labels=2)\n",
        "\n",
        "# Tokenize the dataset\n",
        "def tokenize_function(texts, labels):\n",
        "    encodings = tokenizer(texts, truncation=True, padding=True, max_length=128)\n",
        "    encodings['labels'] = labels\n",
        "    return encodings\n",
        "\n",
        "# Tokenize and convert to Dataset format\n",
        "train_encodings = tokenize_function(X_train, y_train)\n",
        "test_encodings = tokenize_function(X_test, y_test)\n",
        "\n",
        "# Convert to PyTorch dataset\n",
        "class CustomDataset(torch.utils.data.Dataset):\n",
        "    def __init__(self, encodings):\n",
        "        self.encodings = encodings\n",
        "\n",
        "    def __getitem__(self, idx):\n",
        "        item = {key: torch.tensor(val[idx]) for key, val in self.encodings.items()}\n",
        "        return item\n",
        "\n",
        "    def __len__(self):\n",
        "        return len(self.encodings['input_ids'])\n",
        "\n",
        "train_dataset = CustomDataset(train_encodings)\n",
        "test_dataset = CustomDataset(test_encodings)\n",
        "\n",
        "# Define training arguments\n",
        "training_args = TrainingArguments(\n",
        "    output_dir='./results',\n",
        "    evaluation_strategy='epoch',\n",
        "    learning_rate=2e-5,\n",
        "    per_device_train_batch_size=8,\n",
        "    per_device_eval_batch_size=8,\n",
        "    num_train_epochs=3,\n",
        "    weight_decay=0.01,\n",
        ")\n",
        "\n",
        "# Initialize Trainer\n",
        "trainer = Trainer(\n",
        "    model=model,\n",
        "    args=training_args,\n",
        "    train_dataset=train_dataset,\n",
        "    eval_dataset=test_dataset,\n",
        "    tokenizer=tokenizer,\n",
        ")\n",
        "\n",
        "# Train the model\n",
        "trainer.train()\n",
        "\n",
        "# Evaluate the model\n",
        "results = trainer.evaluate()\n",
        "print(\"Evaluation Results:\")\n",
        "print(results)\n",
        "\n",
        "# Predict on the test set\n",
        "predictions = trainer.predict(test_dataset)\n",
        "pred_labels = torch.argmax(torch.tensor(predictions.predictions), dim=1)\n",
        "\n",
        "# Compute accuracy and classification report\n",
        "accuracy = accuracy_score(y_test, pred_labels.numpy())\n",
        "report = classification_report(y_test, pred_labels.numpy(), target_names=['ham', 'spam'])\n",
        "\n",
        "print(f\"Accuracy: {accuracy:.4f}\")\n",
        "print(\"Classification Report:\")\n",
        "print(report)\n",
        "\n",
        "# Save the model and tokenizer\n",
        "model.save_pretrained('./spam_classifier_model')\n",
        "tokenizer.save_pretrained('./spam_classifier_tokenizer')\n",
        "\n",
        "# Load the model and tokenizer for inference\n",
        "model = BertForSequenceClassification.from_pretrained('./spam_classifier_model')\n",
        "tokenizer = BertTokenizer.from_pretrained('./spam_classifier_tokenizer')\n",
        "\n",
        "# Define a prediction function\n",
        "def predict(texts):\n",
        "    inputs = tokenizer(texts, padding=True, truncation=True, return_tensors=\"pt\")\n",
        "    outputs = model(**inputs)\n",
        "    predictions = torch.argmax(outputs.logits, dim=-1)\n",
        "    return predictions\n",
        "\n",
        "# Test the model with some example texts\n",
        "texts = [\"Congratulations, you've won a $1,000 gift card! Call now to claim your prize.\",\n",
        "         \"Meeting at 10 AM tomorrow. Please confirm your availability.\"]\n",
        "predictions = predict(texts)\n",
        "print(\"Predictions:\", predictions)\n"
      ],
      "metadata": {
        "colab": {
          "base_uri": "https://localhost:8080/",
          "height": 536
        },
        "id": "0wpL6fVBYhK8",
        "outputId": "f92d7c97-433c-4d3d-db5c-f04f836c80f4"
      },
      "execution_count": null,
      "outputs": [
        {
          "output_type": "stream",
          "name": "stderr",
          "text": [
            "/usr/local/lib/python3.10/dist-packages/transformers/tokenization_utils_base.py:1601: FutureWarning: `clean_up_tokenization_spaces` was not set. It will be set to `True` by default. This behavior will be depracted in transformers v4.45, and will be then set to `False` by default. For more details check this issue: https://github.com/huggingface/transformers/issues/31884\n",
            "  warnings.warn(\n",
            "Some weights of BertForSequenceClassification were not initialized from the model checkpoint at bert-base-uncased and are newly initialized: ['classifier.bias', 'classifier.weight']\n",
            "You should probably TRAIN this model on a down-stream task to be able to use it for predictions and inference.\n",
            "/usr/local/lib/python3.10/dist-packages/transformers/training_args.py:1525: FutureWarning: `evaluation_strategy` is deprecated and will be removed in version 4.46 of 🤗 Transformers. Use `eval_strategy` instead\n",
            "  warnings.warn(\n"
          ]
        },
        {
          "output_type": "display_data",
          "data": {
            "text/plain": [
              "<IPython.core.display.HTML object>"
            ],
            "text/html": [
              "\n",
              "    <div>\n",
              "      \n",
              "      <progress value='1674' max='1674' style='width:300px; height:20px; vertical-align: middle;'></progress>\n",
              "      [1674/1674 08:19, Epoch 3/3]\n",
              "    </div>\n",
              "    <table border=\"1\" class=\"dataframe\">\n",
              "  <thead>\n",
              " <tr style=\"text-align: left;\">\n",
              "      <th>Epoch</th>\n",
              "      <th>Training Loss</th>\n",
              "      <th>Validation Loss</th>\n",
              "    </tr>\n",
              "  </thead>\n",
              "  <tbody>\n",
              "    <tr>\n",
              "      <td>1</td>\n",
              "      <td>0.086200</td>\n",
              "      <td>0.041482</td>\n",
              "    </tr>\n",
              "    <tr>\n",
              "      <td>2</td>\n",
              "      <td>0.036100</td>\n",
              "      <td>0.037638</td>\n",
              "    </tr>\n",
              "    <tr>\n",
              "      <td>3</td>\n",
              "      <td>0.004200</td>\n",
              "      <td>0.054581</td>\n",
              "    </tr>\n",
              "  </tbody>\n",
              "</table><p>"
            ]
          },
          "metadata": {}
        },
        {
          "output_type": "display_data",
          "data": {
            "text/plain": [
              "<IPython.core.display.HTML object>"
            ],
            "text/html": []
          },
          "metadata": {}
        },
        {
          "output_type": "stream",
          "name": "stdout",
          "text": [
            "Evaluation Results:\n",
            "{'eval_loss': 0.05458051711320877, 'eval_runtime': 8.2206, 'eval_samples_per_second': 135.636, 'eval_steps_per_second': 17.03, 'epoch': 3.0}\n",
            "Accuracy: 0.9901\n",
            "Classification Report:\n",
            "              precision    recall  f1-score   support\n",
            "\n",
            "         ham       1.00      0.99      0.99       966\n",
            "        spam       0.95      0.98      0.96       149\n",
            "\n",
            "    accuracy                           0.99      1115\n",
            "   macro avg       0.97      0.99      0.98      1115\n",
            "weighted avg       0.99      0.99      0.99      1115\n",
            "\n",
            "Predictions: tensor([1, 0])\n"
          ]
        }
      ]
    },
    {
      "cell_type": "code",
      "source": [
        "\n"
      ],
      "metadata": {
        "id": "xNgwDqHKnohY"
      },
      "execution_count": null,
      "outputs": []
    }
  ]
}